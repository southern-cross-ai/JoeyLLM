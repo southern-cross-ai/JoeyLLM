{
 "cells": [
  {
   "cell_type": "markdown",
   "id": "bc67b71a",
   "metadata": {},
   "source": [
    "### Change the notebook to top level folder"
   ]
  },
  {
   "cell_type": "code",
   "execution_count": 1,
   "id": "6b13f527",
   "metadata": {},
   "outputs": [],
   "source": [
    "import os\n",
    "import torch\n",
    "from pathlib import Path\n",
    "from omegaconf import OmegaConf\n",
    "\n",
    "# Change the working directory to one level up\n",
    "os.chdir(Path().resolve().parent)\n",
    "\n",
    "from model.joeyllm import JoeyLLM\n",
    "from configs.valid import Config"
   ]
  },
  {
   "cell_type": "code",
   "execution_count": 2,
   "id": "9fdfd7f3",
   "metadata": {},
   "outputs": [],
   "source": [
    "# Load YAML config\n",
    "cfg = OmegaConf.load(\"configs/config.yaml\")\n",
    "# Convert to your validated config class\n",
    "vcfg = Config(**cfg)"
   ]
  },
  {
   "cell_type": "code",
   "execution_count": 3,
   "id": "5e699cce",
   "metadata": {},
   "outputs": [],
   "source": [
    "device = torch.device(\"cuda\")"
   ]
  },
  {
   "cell_type": "code",
   "execution_count": 4,
   "id": "e5ce78d5",
   "metadata": {},
   "outputs": [
    {
     "name": "stdout",
     "output_type": "stream",
     "text": [
      "🧠 Initializing Model...\n"
     ]
    }
   ],
   "source": [
    "print(\"🧠 Initializing Model...\")\n",
    "model = JoeyLLM(\n",
    "    vocab_size=vcfg.modelconfig.vocab_size,\n",
    "    max_seq_len=vcfg.modelconfig.max_seq_len,\n",
    "    embed_dim=vcfg.modelconfig.embed_dim,\n",
    "    num_layers=vcfg.modelconfig.num_layers,\n",
    "    num_heads=vcfg.modelconfig.num_heads,\n",
    "    dropout=vcfg.modelconfig.dropout,\n",
    "    )"
   ]
  },
  {
   "cell_type": "code",
   "execution_count": null,
   "id": "75d71498",
   "metadata": {},
   "outputs": [],
   "source": []
  },
  {
   "cell_type": "code",
   "execution_count": 5,
   "id": "f1aaa1e9",
   "metadata": {},
   "outputs": [
    {
     "name": "stdout",
     "output_type": "stream",
     "text": [
      "Total parameters: 1,275,187,200\n",
      "Trainable parameters: 1,275,187,200\n"
     ]
    }
   ],
   "source": [
    "total_params = sum(p.numel() for p in model.parameters())\n",
    "trainable_params = sum(p.numel() for p in model.parameters() if p.requires_grad)\n",
    "\n",
    "print(f\"Total parameters: {total_params:,}\")\n",
    "print(f\"Trainable parameters: {trainable_params:,}\")\n"
   ]
  },
  {
   "cell_type": "code",
   "execution_count": null,
   "id": "66d9831a",
   "metadata": {},
   "outputs": [],
   "source": []
  },
  {
   "cell_type": "code",
   "execution_count": null,
   "id": "0fd31e9d",
   "metadata": {},
   "outputs": [],
   "source": []
  }
 ],
 "metadata": {
  "kernelspec": {
   "display_name": ".venv",
   "language": "python",
   "name": "python3"
  },
  "language_info": {
   "codemirror_mode": {
    "name": "ipython",
    "version": 3
   },
   "file_extension": ".py",
   "mimetype": "text/x-python",
   "name": "python",
   "nbconvert_exporter": "python",
   "pygments_lexer": "ipython3",
   "version": "3.12.3"
  }
 },
 "nbformat": 4,
 "nbformat_minor": 5
}
