{
 "cells": [
  {
   "cell_type": "markdown",
   "id": "6f89c7b0",
   "metadata": {},
   "source": [
    "# Data Testing"
   ]
  },
  {
   "cell_type": "markdown",
   "id": "1ceca56f",
   "metadata": {},
   "source": [
    "## Data Preprocessing parquet --> huggingface Dataset"
   ]
  },
  {
   "cell_type": "code",
   "execution_count": 1,
   "id": "77e31a85",
   "metadata": {},
   "outputs": [
    {
     "data": {
      "application/vnd.jupyter.widget-view+json": {
       "model_id": "b1979878d60649f3ad63cc5b08636d69",
       "version_major": 2,
       "version_minor": 0
      },
      "text/plain": [
       "Map (num_proc=50):   0%|          | 0/1046615 [00:00<?, ? examples/s]"
      ]
     },
     "metadata": {},
     "output_type": "display_data"
    },
    {
     "data": {
      "application/vnd.jupyter.widget-view+json": {
       "model_id": "7370d2e9a33c46e4926c6045ecf2c8ad",
       "version_major": 2,
       "version_minor": 0
      },
      "text/plain": [
       "Saving the dataset (0/13 shards):   0%|          | 0/1551706 [00:00<?, ? examples/s]"
      ]
     },
     "metadata": {},
     "output_type": "display_data"
    },
    {
     "name": "stdout",
     "output_type": "stream",
     "text": [
      "✅ Dataset saved to 008_00000.parquet\n"
     ]
    }
   ],
   "source": [
    "# test_process.py\n",
    "\n",
    "import time\n",
    "import torch\n",
    "import pandas as pd\n",
    "from datasets import Dataset as HFDataset\n",
    "from transformers import AutoTokenizer\n",
    "\n",
    "# ------------------------------\n",
    "# Config\n",
    "# ------------------------------\n",
    "TOKENIZER_PATH = \"SouthernCrossAI/JoeyLLM_Tokenizer\"\n",
    "INPUT_PATH = \"traindata/001_00000.parquet\"\n",
    "OUTPUT_PATH = \"008_00000.parquet\"\n",
    "CHUNK_SIZE = 512\n",
    "NUM_PROC = 50\n",
    "\n",
    "# ------------------------------\n",
    "# Initialize tokenizer\n",
    "# ------------------------------\n",
    "tokenizer = AutoTokenizer.from_pretrained(TOKENIZER_PATH, use_fast=True)\n",
    "\n",
    "# ------------------------------\n",
    "# Tokenization function\n",
    "# ------------------------------\n",
    "def tokenize_function(examples):\n",
    "    return tokenizer(\n",
    "        examples[\"text\"],\n",
    "        add_special_tokens=False\n",
    "    )\n",
    "\n",
    "# ------------------------------\n",
    "# Main processing pipeline\n",
    "# ------------------------------\n",
    "\n",
    "# Load text column as pandas DataFrame\n",
    "df = pd.read_parquet(INPUT_PATH, columns=[\"text\"])\n",
    "\n",
    "# Convert to Hugging Face Dataset\n",
    "dataset = HFDataset.from_pandas(df)\n",
    "\n",
    "# Tokenize dataset with multiprocessing\n",
    "tokenized_dataset = dataset.map(\n",
    "    tokenize_function,\n",
    "    batched=True,\n",
    "    num_proc=NUM_PROC\n",
    ")\n",
    "\n",
    "# Convert tokenized dataset to pandas DataFrame and extract input_ids column\n",
    "df2 = tokenized_dataset.to_pandas()\n",
    "input_ids_series = df2['input_ids']\n",
    "\n",
    "# Flatten input_ids into a single list of tokens\n",
    "all_tokens = [token for sublist in input_ids_series for token in sublist]\n",
    "\n",
    "# Create input_ids and target_ids chunks\n",
    "input_ids_chunks = [\n",
    "    all_tokens[i:i+CHUNK_SIZE]\n",
    "    for i in range(0, len(all_tokens)-CHUNK_SIZE, CHUNK_SIZE)\n",
    "]\n",
    "target_ids_chunks = [\n",
    "    all_tokens[i+1:i+CHUNK_SIZE+1]\n",
    "    for i in range(0, len(all_tokens)-CHUNK_SIZE, CHUNK_SIZE)\n",
    "]\n",
    "\n",
    "# Build final DataFrame\n",
    "df_final = pd.DataFrame({\n",
    "    'input_ids': input_ids_chunks,\n",
    "    'target_ids': target_ids_chunks\n",
    "})\n",
    "\n",
    "# Ensure both columns have same number of rows\n",
    "if len(df_final['input_ids']) != len(df_final['target_ids']):\n",
    "    df_final = df_final.iloc[:-1]\n",
    "\n",
    "# Convert to Hugging Face Dataset and save\n",
    "hf_dataset = HFDataset.from_pandas(df_final, preserve_index=False)\n",
    "hf_dataset.save_to_disk(OUTPUT_PATH)\n",
    "\n",
    "print(f\"✅ Dataset saved to {OUTPUT_PATH}\")\n"
   ]
  },
  {
   "cell_type": "markdown",
   "id": "80e78d59",
   "metadata": {},
   "source": [
    "## Pulling and load huggingface Dataset"
   ]
  },
  {
   "cell_type": "code",
   "execution_count": 2,
   "id": "ff3bbf96",
   "metadata": {},
   "outputs": [
    {
     "name": "stdout",
     "output_type": "stream",
     "text": [
      "dataset loaded\n",
      "Does the dataset have a '__len__' method? True\n",
      "Does the dataset have a '__getitem__' method? True\n"
     ]
    }
   ],
   "source": [
    "from datasets import load_from_disk\n",
    "from torch.utils.data import DataLoader\n",
    "\n",
    "# ------------------------------\n",
    "# Load saved Hugging Face dataset\n",
    "# ------------------------------\n",
    "dataset_path = \"008_00000.parquet\"\n",
    "hf_dataset = load_from_disk(dataset_path)\n",
    "\n",
    "# ------------------------------\n",
    "# Convert to PyTorch tensors\n",
    "# ------------------------------\n",
    "hf_dataset.set_format(type=\"torch\", columns=[\"input_ids\", \"target_ids\"])\n",
    "\n",
    "print('dataset loaded')\n",
    "\n",
    "# Test for the existence of the methods using hasattr()\n",
    "has_len_method = hasattr(hf_dataset, '__len__')\n",
    "has_getitem_method = hasattr(hf_dataset, '__getitem__')\n",
    "\n",
    "print(f\"Does the dataset have a '__len__' method? {has_len_method}\")\n",
    "print(f\"Does the dataset have a '__getitem__' method? {has_getitem_method}\")\n",
    "\n",
    "\n",
    "# Using square brackets [] automatically calls the __getitem__ method\n",
    "# print(f\"First item in the dataset: {hf_dataset[0]}\")"
   ]
  },
  {
   "cell_type": "markdown",
   "id": "e3828bde",
   "metadata": {},
   "source": [
    "## Testing Dataloader"
   ]
  },
  {
   "cell_type": "code",
   "execution_count": 3,
   "id": "0dc7bff2",
   "metadata": {},
   "outputs": [
    {
     "name": "stdout",
     "output_type": "stream",
     "text": [
      "✅ First batch loaded:\n",
      "{'input_ids': tensor([[ 5902,  2260,  6788,  ...,   586,  6073,   640],\n",
      "        [28718, 16181,   349,  ...,   264,   320,  4635]]), 'target_ids': tensor([[ 2260,  6788,  2145,  ...,  6073,   640, 27136],\n",
      "        [16181,   349,  2651,  ...,   320,  4635,    13]])}\n",
      "input_ids shape: torch.Size([2, 512])\n",
      "target_ids shape: torch.Size([2, 512])\n"
     ]
    }
   ],
   "source": [
    "batch_size = 2\n",
    "\n",
    "dataloader = DataLoader(hf_dataset, batch_size=batch_size, shuffle=True)\n",
    "\n",
    "# ------------------------------\n",
    "# Test first batch\n",
    "# ------------------------------\n",
    "first_batch = next(iter(dataloader))\n",
    "\n",
    "print(\"✅ First batch loaded:\")\n",
    "print(first_batch)\n",
    "print(\"input_ids shape:\", first_batch[\"input_ids\"].shape)\n",
    "print(\"target_ids shape:\", first_batch[\"target_ids\"].shape)"
   ]
  },
  {
   "cell_type": "markdown",
   "id": "128a7e8f",
   "metadata": {},
   "source": [
    "## Getting lenths"
   ]
  },
  {
   "cell_type": "code",
   "execution_count": 4,
   "id": "913a27a7",
   "metadata": {},
   "outputs": [
    {
     "name": "stdout",
     "output_type": "stream",
     "text": [
      "Length of the dataset: 1551706\n"
     ]
    },
    {
     "data": {
      "text/plain": [
       "24245"
      ]
     },
     "execution_count": 4,
     "metadata": {},
     "output_type": "execute_result"
    }
   ],
   "source": [
    "# The len() function automatically calls the __len__ method\n",
    "print(f\"Length of the dataset: {len(hf_dataset)}\")\n",
    "\n",
    "len(hf_dataset) // 16 //4  # Length // batch // gradent accum"
   ]
  },
  {
   "cell_type": "code",
   "execution_count": 4,
   "id": "8910cb1d",
   "metadata": {},
   "outputs": [],
   "source": [
    "import os"
   ]
  },
  {
   "cell_type": "code",
   "execution_count": 5,
   "id": "bca4f7d7",
   "metadata": {},
   "outputs": [
    {
     "name": "stdout",
     "output_type": "stream",
     "text": [
      "/home/remote/u1138167/JoeyLLM/data\n"
     ]
    }
   ],
   "source": [
    "print(os.getcwd())"
   ]
  },
  {
   "cell_type": "code",
   "execution_count": null,
   "id": "d5d25861",
   "metadata": {},
   "outputs": [],
   "source": [
    "print(os.getc)"
   ]
  }
 ],
 "metadata": {
  "kernelspec": {
   "display_name": ".venv",
   "language": "python",
   "name": "python3"
  },
  "language_info": {
   "codemirror_mode": {
    "name": "ipython",
    "version": 3
   },
   "file_extension": ".py",
   "mimetype": "text/x-python",
   "name": "python",
   "nbconvert_exporter": "python",
   "pygments_lexer": "ipython3",
   "version": "3.12.3"
  }
 },
 "nbformat": 4,
 "nbformat_minor": 5
}
