{
 "cells": [
  {
   "cell_type": "code",
   "execution_count": 6,
   "id": "77e31a85",
   "metadata": {},
   "outputs": [
    {
     "data": {
      "application/vnd.jupyter.widget-view+json": {
       "model_id": "c7a99d010688402fb5f11253d15f3298",
       "version_major": 2,
       "version_minor": 0
      },
      "text/plain": [
       "Map (num_proc=45):   0%|          | 0/1034640 [00:00<?, ? examples/s]"
      ]
     },
     "metadata": {},
     "output_type": "display_data"
    },
    {
     "data": {
      "application/vnd.jupyter.widget-view+json": {
       "model_id": "b67feb11807b4ed997985c54ed637ce4",
       "version_major": 2,
       "version_minor": 0
      },
      "text/plain": [
       "Saving the dataset (0/13 shards):   0%|          | 0/1553909 [00:00<?, ? examples/s]"
      ]
     },
     "metadata": {},
     "output_type": "display_data"
    },
    {
     "name": "stdout",
     "output_type": "stream",
     "text": [
      "✅ Dataset saved to ../../JoeyData/10BT/hugginface/008_00000.parquet\n"
     ]
    }
   ],
   "source": [
    "# test_process.py\n",
    "\n",
    "import time\n",
    "import torch\n",
    "import pandas as pd\n",
    "from datasets import Dataset as HFDataset\n",
    "from transformers import AutoTokenizer\n",
    "\n",
    "# ------------------------------\n",
    "# Config\n",
    "# ------------------------------\n",
    "TOKENIZER_PATH = \"SouthernCrossAI/JoeyLLM_Tokenizer\"\n",
    "INPUT_PATH = \"../../JoeyData/10BT/008_00000.parquet\"\n",
    "OUTPUT_PATH = \"../../JoeyData/10BT/hugginface/008_00000.parquet\"\n",
    "CHUNK_SIZE = 512\n",
    "NUM_PROC = 45\n",
    "\n",
    "# ------------------------------\n",
    "# Initialize tokenizer\n",
    "# ------------------------------\n",
    "tokenizer = AutoTokenizer.from_pretrained(TOKENIZER_PATH, use_fast=True)\n",
    "\n",
    "# ------------------------------\n",
    "# Tokenization function\n",
    "# ------------------------------\n",
    "def tokenize_function(examples):\n",
    "    return tokenizer(\n",
    "        examples[\"text\"],\n",
    "        add_special_tokens=False\n",
    "    )\n",
    "\n",
    "# ------------------------------\n",
    "# Main processing pipeline\n",
    "# ------------------------------\n",
    "\n",
    "# Load text column as pandas DataFrame\n",
    "df = pd.read_parquet(INPUT_PATH, columns=[\"text\"])\n",
    "\n",
    "# Convert to Hugging Face Dataset\n",
    "dataset = HFDataset.from_pandas(df)\n",
    "\n",
    "# Tokenize dataset with multiprocessing\n",
    "tokenized_dataset = dataset.map(\n",
    "    tokenize_function,\n",
    "    batched=True,\n",
    "    num_proc=NUM_PROC\n",
    ")\n",
    "\n",
    "# Convert tokenized dataset to pandas DataFrame and extract input_ids column\n",
    "df2 = tokenized_dataset.to_pandas()\n",
    "input_ids_series = df2['input_ids']\n",
    "\n",
    "# Flatten input_ids into a single list of tokens\n",
    "all_tokens = [token for sublist in input_ids_series for token in sublist]\n",
    "\n",
    "# Create input_ids and target_ids chunks\n",
    "input_ids_chunks = [\n",
    "    all_tokens[i:i+CHUNK_SIZE]\n",
    "    for i in range(0, len(all_tokens)-CHUNK_SIZE, CHUNK_SIZE)\n",
    "]\n",
    "target_ids_chunks = [\n",
    "    all_tokens[i+1:i+CHUNK_SIZE+1]\n",
    "    for i in range(0, len(all_tokens)-CHUNK_SIZE, CHUNK_SIZE)\n",
    "]\n",
    "\n",
    "# Build final DataFrame\n",
    "df_final = pd.DataFrame({\n",
    "    'input_ids': input_ids_chunks,\n",
    "    'target_ids': target_ids_chunks\n",
    "})\n",
    "\n",
    "# Ensure both columns have same number of rows\n",
    "if len(df_final['input_ids']) != len(df_final['target_ids']):\n",
    "    df_final = df_final.iloc[:-1]\n",
    "\n",
    "# Convert to Hugging Face Dataset and save\n",
    "hf_dataset = HFDataset.from_pandas(df_final, preserve_index=False)\n",
    "hf_dataset.save_to_disk(OUTPUT_PATH)\n",
    "\n",
    "print(f\"✅ Dataset saved to {OUTPUT_PATH}\")\n"
   ]
  },
  {
   "cell_type": "markdown",
   "id": "80e78d59",
   "metadata": {},
   "source": [
    "# Test"
   ]
  },
  {
   "cell_type": "code",
   "execution_count": 7,
   "id": "ff3bbf96",
   "metadata": {},
   "outputs": [
    {
     "name": "stdout",
     "output_type": "stream",
     "text": [
      "✅ First batch loaded:\n",
      "{'input_ids': tensor([[15772,   302,  6601,  ...,   547,   706,  5380],\n",
      "        [ 1287, 13500,   304,  ...,   868, 28723,   315]]), 'target_ids': tensor([[  302,  6601, 13295,  ...,   706,  5380,   272],\n",
      "        [13500,   304,  4251,  ..., 28723,   315,   863]])}\n",
      "input_ids shape: torch.Size([2, 512])\n",
      "target_ids shape: torch.Size([2, 512])\n"
     ]
    }
   ],
   "source": [
    "from datasets import load_from_disk\n",
    "from torch.utils.data import DataLoader\n",
    "\n",
    "# ------------------------------\n",
    "# Load saved Hugging Face dataset\n",
    "# ------------------------------\n",
    "dataset_path = \"../../JoeyData/10BT/hugginface/008_00000.parquet\"\n",
    "hf_dataset = load_from_disk(dataset_path)\n",
    "\n",
    "# ------------------------------\n",
    "# Convert to PyTorch tensors\n",
    "# ------------------------------\n",
    "hf_dataset.set_format(type=\"torch\", columns=[\"input_ids\", \"target_ids\"])\n",
    "\n",
    "# ------------------------------\n",
    "# Create DataLoader\n",
    "# ------------------------------\n",
    "batch_size = 2\n",
    "\n",
    "dataloader = DataLoader(hf_dataset, batch_size=batch_size, shuffle=True)\n",
    "\n",
    "# ------------------------------\n",
    "# Test first batch\n",
    "# ------------------------------\n",
    "first_batch = next(iter(dataloader))\n",
    "\n",
    "print(\"✅ First batch loaded:\")\n",
    "print(first_batch)\n",
    "print(\"input_ids shape:\", first_batch[\"input_ids\"].shape)\n",
    "print(\"target_ids shape:\", first_batch[\"target_ids\"].shape)\n"
   ]
  },
  {
   "cell_type": "code",
   "execution_count": 8,
   "id": "27fe1646",
   "metadata": {},
   "outputs": [
    {
     "name": "stdout",
     "output_type": "stream",
     "text": [
      "test\n"
     ]
    }
   ],
   "source": [
    "print(\"test\")"
   ]
  },
  {
   "cell_type": "code",
   "execution_count": null,
   "id": "020f88f3",
   "metadata": {},
   "outputs": [],
   "source": []
  }
 ],
 "metadata": {
  "kernelspec": {
   "display_name": ".venv",
   "language": "python",
   "name": "python3"
  },
  "language_info": {
   "codemirror_mode": {
    "name": "ipython",
    "version": 3
   },
   "file_extension": ".py",
   "mimetype": "text/x-python",
   "name": "python",
   "nbconvert_exporter": "python",
   "pygments_lexer": "ipython3",
   "version": "3.12.3"
  }
 },
 "nbformat": 4,
 "nbformat_minor": 5
}
