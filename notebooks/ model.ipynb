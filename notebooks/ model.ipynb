{
 "cells": [
  {
   "cell_type": "code",
   "execution_count": 2,
   "id": "05fea692",
   "metadata": {},
   "outputs": [],
   "source": [
    "import torch\n",
    "import torch.nn as nn\n",
    "import torch.nn.functional as F\n",
    "\n",
    "\n",
    "class GPTBlock(nn.Module):\n",
    "    def __init__(self, embed_dim, num_heads, dropout):\n",
    "        super().__init__()\n",
    "        self.ln_1 = nn.LayerNorm(embed_dim)\n",
    "        self.attn = nn.MultiheadAttention(embed_dim, num_heads, dropout=dropout, batch_first=True)\n",
    "\n",
    "        self.ln_2 = nn.LayerNorm(embed_dim)\n",
    "        self.mlp = nn.Sequential(\n",
    "            nn.Linear(embed_dim, 4 * embed_dim),\n",
    "            nn.GELU(),\n",
    "            nn.Linear(4 * embed_dim, embed_dim),\n",
    "            nn.Dropout(dropout),\n",
    "        )\n",
    "        self.dropout = nn.Dropout(dropout)\n",
    "\n",
    "    def forward(self, x, mask=None):\n",
    "        # Pre-norm -> self-attn -> residual\n",
    "        x = x + self.dropout(self.attn(self.ln_1(x), self.ln_1(x), self.ln_1(x), attn_mask=mask)[0])\n",
    "        # Pre-norm -> MLP -> residual\n",
    "        x = x + self.mlp(self.ln_2(x))\n",
    "        return x\n",
    "\n",
    "\n",
    "class JoeyLLM(nn.Module):\n",
    "    def __init__(self, vocab_size, max_seq_len, embed_dim, num_layers, num_heads, dropout):\n",
    "        super().__init__()\n",
    "        self.vocab_size = vocab_size\n",
    "        self.embed_dim = embed_dim\n",
    "        self.max_seq_len = max_seq_len\n",
    "\n",
    "        # Embedding layers\n",
    "        self.token_embedding = nn.Embedding(vocab_size, embed_dim)\n",
    "        self.position_embedding = nn.Parameter(torch.zeros(1, max_seq_len, embed_dim))\n",
    "        nn.init.trunc_normal_(self.position_embedding, std=0.02)\n",
    "        self.embedding_dropout = nn.Dropout(dropout)\n",
    "\n",
    "\n",
    "        # Precompute causal mask for maximum sequence length\n",
    "        causal_mask = torch.triu(torch.ones(max_seq_len, max_seq_len), diagonal=1)\n",
    "        causal_mask = causal_mask.masked_fill(causal_mask == 1, float('-inf'))\n",
    "        self.register_buffer(\"causal_mask\", causal_mask)\n",
    "\n",
    "\n",
    "        # Stack of GPT blocks\n",
    "        self.blocks = nn.ModuleList([\n",
    "            GPTBlock(embed_dim, num_heads, dropout)\n",
    "            for _ in range(num_layers)\n",
    "        ])\n",
    "\n",
    "        self.ln_f = nn.LayerNorm(embed_dim)\n",
    "        self.head = nn.Linear(embed_dim, vocab_size, bias=False)\n",
    "        self.head.weight = self.token_embedding.weight  # Weight tying\n",
    "\n",
    "    def forward(self, input_ids):\n",
    "        B, T = input_ids.size()\n",
    "\n",
    "        # Embedding + positional encoding\n",
    "        token_emb = self.token_embedding(input_ids)         # (B, T, D)\n",
    "        position_emb = self.position_embedding[:, :T, :]    # (1, T, D)\n",
    "        x = token_emb + position_emb                        # (B, T, D)\n",
    "        x = self.embedding_dropout(x)\n",
    "\n",
    "        # Causal mask for left-to-right attention\n",
    "        mask = self.causal_mask[:T, :T]  # Use only relevant slice\n",
    "\n",
    "        # Forward through transformer blocks\n",
    "        for block in self.blocks:\n",
    "            x = block(x, mask=mask)\n",
    "\n",
    "        x = self.ln_f(x)\n",
    "        logits = self.head(x)  # (B, T, vocab_size)\n",
    "        return logits\n",
    "\n"
   ]
  },
  {
   "cell_type": "code",
   "execution_count": 11,
   "id": "cb0c97a2",
   "metadata": {},
   "outputs": [],
   "source": [
    " model = JoeyLLM(\n",
    "        vocab_size=32000,\n",
    "        max_seq_len=512,\n",
    "        embed_dim=768,\n",
    "        num_layers=12,\n",
    "        num_heads=12,\n",
    "        dropout=0.1,\n",
    "        )"
   ]
  },
  {
   "cell_type": "code",
   "execution_count": 12,
   "id": "0f537f04",
   "metadata": {},
   "outputs": [
    {
     "data": {
      "text/plain": [
       "110025216"
      ]
     },
     "execution_count": 12,
     "metadata": {},
     "output_type": "execute_result"
    }
   ],
   "source": [
    "sum(p.numel() for p in model.parameters())\n",
    "# 110025216"
   ]
  },
  {
   "cell_type": "code",
   "execution_count": null,
   "id": "74b8f622",
   "metadata": {},
   "outputs": [],
   "source": []
  }
 ],
 "metadata": {
  "kernelspec": {
   "display_name": ".venv",
   "language": "python",
   "name": "python3"
  },
  "language_info": {
   "codemirror_mode": {
    "name": "ipython",
    "version": 3
   },
   "file_extension": ".py",
   "mimetype": "text/x-python",
   "name": "python",
   "nbconvert_exporter": "python",
   "pygments_lexer": "ipython3",
   "version": "3.12.3"
  }
 },
 "nbformat": 4,
 "nbformat_minor": 5
}
